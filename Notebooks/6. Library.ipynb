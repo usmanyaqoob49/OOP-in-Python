{
 "cells": [
  {
   "cell_type": "markdown",
   "id": "8209a75c",
   "metadata": {},
   "source": [
    "### Class: Library\n",
    "### Layers of Abstraction: Display a book available, lend a book, add a book\n",
    "\n",
    "\n",
    "### Class: Customer\n",
    "### Layers of Abstraction: request for a book, return a book"
   ]
  },
  {
   "cell_type": "code",
   "execution_count": null,
   "id": "40c9fe25",
   "metadata": {},
   "outputs": [
    {
     "name": "stdout",
     "output_type": "stream",
     "text": [
      "Enter 1 to display the available books: \n",
      "Enter 2 to request for a book: \n",
      "Enter 3 to return the book: \n",
      "Enter 4 to exit! \n",
      "1\n",
      "book1\n",
      "book2\n",
      "book3\n",
      "\n",
      "Enter 1 to display the available books: \n",
      "Enter 2 to request for a book: \n",
      "Enter 3 to return the book: \n",
      "Enter 4 to exit! \n",
      "4\n",
      "Enter 1 to display the available books: \n",
      "Enter 2 to request for a book: \n",
      "Enter 3 to return the book: \n",
      "Enter 4 to exit! \n"
     ]
    }
   ],
   "source": [
    "class Libray():\n",
    "    def __init__(self, book_list):\n",
    "        self.available_book_list = book_list\n",
    "    #to display the available books\n",
    "    def display_available_books(self):\n",
    "        for books in self.available_book_list:\n",
    "            print(books)\n",
    "        print()\n",
    "    \n",
    "    #to lend a book \n",
    "    #it will recieve the name of book user wants\n",
    "    def lend_book(self, requested_book):\n",
    "        if requested_book in self.available_book_list:\n",
    "            print('You have borrowed the book.')\n",
    "            self.available_book_list.remove(requested_book)\n",
    "        else:\n",
    "            print('Book not available')\n",
    "        print()\n",
    "    \n",
    "    #to add book to library\n",
    "    #to add a book that is returned by the user\n",
    "    def add_book(self, returned_book_name):\n",
    "        self.available_book_list.append(returned_book_name)\n",
    "        print('You have returned the book!')\n",
    "        \n",
    "        \n",
    "        \n",
    "class Customer():\n",
    "    #method for requesting for a book\n",
    "    def request_book(self):\n",
    "        print('Enter the name of the book you want to borrow: ')\n",
    "        self.book = input()\n",
    "        #we will pass this name to lend_book method of Library class\n",
    "        return self.book\n",
    "    \n",
    "    #method for returning a book\n",
    "    def return_book(self):\n",
    "        print('Enter the name of the book you are returning: ')\n",
    "        self.book = input()\n",
    "        #we will pass this book to add_book() method of Library\n",
    "        return self.book\n",
    "    \n",
    "    \n",
    "    \n",
    "#objects\n",
    "#we will pass the list of books we have when initializing a object\n",
    "library = Libray(['book1', 'book2', 'book3'])\n",
    "\n",
    "customer = Customer()\n",
    "while True:\n",
    "    print('Enter 1 to display the available books: ')\n",
    "    print('Enter 2 to request for a book: ')\n",
    "    print('Enter 3 to return the book: ')\n",
    "    print('Enter 4 to exit! ')\n",
    "    user_choice = int(input())\n",
    "    if user_choice == 1:\n",
    "        library.display_available_books()\n",
    "    elif user_choice == 2:\n",
    "        requested_book = customer.request_book()\n",
    "        library.lend_book(requested_book)\n",
    "    elif user_choice == 3:\n",
    "        return_book = customer.return_book()\n",
    "        library.add_book(return_book)\n",
    "    elif user_choice == 4:\n",
    "        quit()\n",
    "\n"
   ]
  },
  {
   "cell_type": "code",
   "execution_count": 24,
   "id": "ae146e23",
   "metadata": {},
   "outputs": [],
   "source": []
  }
 ],
 "metadata": {
  "kernelspec": {
   "display_name": "Python 3 (ipykernel)",
   "language": "python",
   "name": "python3"
  },
  "language_info": {
   "codemirror_mode": {
    "name": "ipython",
    "version": 3
   },
   "file_extension": ".py",
   "mimetype": "text/x-python",
   "name": "python",
   "nbconvert_exporter": "python",
   "pygments_lexer": "ipython3",
   "version": "3.9.13"
  }
 },
 "nbformat": 4,
 "nbformat_minor": 5
}
