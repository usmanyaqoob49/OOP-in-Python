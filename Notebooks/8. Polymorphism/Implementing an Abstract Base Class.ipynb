{
 "cells": [
  {
   "cell_type": "markdown",
   "id": "a6f3e46c",
   "metadata": {},
   "source": [
    "### Abstract Base Class"
   ]
  },
  {
   "cell_type": "code",
   "execution_count": 9,
   "id": "f34445a6",
   "metadata": {},
   "outputs": [],
   "source": [
    "from abc import ABCMeta, abstractmethod"
   ]
  },
  {
   "cell_type": "code",
   "execution_count": 10,
   "id": "f82f752b",
   "metadata": {},
   "outputs": [],
   "source": [
    "class Shape(metaclass = ABCMeta):\n",
    "    @abstractmethod\n",
    "    def area(self):\n",
    "        return 0"
   ]
  },
  {
   "cell_type": "code",
   "execution_count": 11,
   "id": "d32d2b9f",
   "metadata": {},
   "outputs": [],
   "source": [
    "class square(Shape):\n",
    "    side = 4\n",
    "    def area(self):\n",
    "        print('Area of Square: ', self.side * self.side)\n",
    "        \n",
    "class recrtangle(Shape):\n",
    "    width = 4\n",
    "    length = 5\n",
    "    def area(self):\n",
    "        print('Area of rectangle: ', self.width * self.length)"
   ]
  },
  {
   "cell_type": "code",
   "execution_count": 12,
   "id": "ac0ba1e5",
   "metadata": {},
   "outputs": [],
   "source": [
    "s = square()"
   ]
  },
  {
   "cell_type": "code",
   "execution_count": 13,
   "id": "26836336",
   "metadata": {},
   "outputs": [],
   "source": [
    "r = recrtangle()"
   ]
  },
  {
   "cell_type": "code",
   "execution_count": 14,
   "id": "c415e942",
   "metadata": {},
   "outputs": [
    {
     "name": "stdout",
     "output_type": "stream",
     "text": [
      "Area of Square:  16\n"
     ]
    }
   ],
   "source": [
    "s.area()"
   ]
  },
  {
   "cell_type": "code",
   "execution_count": 15,
   "id": "5f6a2008",
   "metadata": {},
   "outputs": [
    {
     "name": "stdout",
     "output_type": "stream",
     "text": [
      "Area of rectangle:  20\n"
     ]
    }
   ],
   "source": [
    "r.area()"
   ]
  },
  {
   "cell_type": "code",
   "execution_count": null,
   "id": "b9cf30f4",
   "metadata": {},
   "outputs": [],
   "source": []
  },
  {
   "cell_type": "code",
   "execution_count": null,
   "id": "dbc86ba7",
   "metadata": {},
   "outputs": [],
   "source": []
  }
 ],
 "metadata": {
  "kernelspec": {
   "display_name": "Python 3 (ipykernel)",
   "language": "python",
   "name": "python3"
  },
  "language_info": {
   "codemirror_mode": {
    "name": "ipython",
    "version": 3
   },
   "file_extension": ".py",
   "mimetype": "text/x-python",
   "name": "python",
   "nbconvert_exporter": "python",
   "pygments_lexer": "ipython3",
   "version": "3.9.13"
  }
 },
 "nbformat": 4,
 "nbformat_minor": 5
}
