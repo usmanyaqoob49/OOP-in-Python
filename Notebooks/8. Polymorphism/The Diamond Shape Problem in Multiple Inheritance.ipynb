{
 "cells": [
  {
   "cell_type": "code",
   "execution_count": 7,
   "id": "e19c2f12",
   "metadata": {},
   "outputs": [],
   "source": [
    "class A:\n",
    "    @staticmethod\n",
    "    def method():\n",
    "        print('this method belongs to class A')\n",
    "        "
   ]
  },
  {
   "cell_type": "code",
   "execution_count": 8,
   "id": "91d87fb7",
   "metadata": {},
   "outputs": [],
   "source": [
    "class B(A):\n",
    "    pass"
   ]
  },
  {
   "cell_type": "code",
   "execution_count": 9,
   "id": "1b062d9a",
   "metadata": {},
   "outputs": [],
   "source": [
    "class C(A):\n",
    "    pass"
   ]
  },
  {
   "cell_type": "code",
   "execution_count": 6,
   "id": "dd5e3779",
   "metadata": {},
   "outputs": [],
   "source": [
    "class D(B,C):\n",
    "    pass"
   ]
  },
  {
   "cell_type": "markdown",
   "id": "ec98e586",
   "metadata": {},
   "source": [
    "Now we have 4 cases:\n",
    "#### 1) We do not override method of A in B and C\n",
    "#### 2) We override it in B but not C\n",
    "#### 3) We override in C but not B\n",
    "#### 4) We do not override in both B and C"
   ]
  },
  {
   "cell_type": "markdown",
   "id": "1cbf34d6",
   "metadata": {},
   "source": [
    "# Case 1\n",
    "We do not override method of A in B and C"
   ]
  },
  {
   "cell_type": "code",
   "execution_count": 10,
   "id": "2aae92ae",
   "metadata": {},
   "outputs": [],
   "source": [
    "class A:\n",
    "    @staticmethod\n",
    "    def method():\n",
    "        print('this method belongs to class A')\n",
    "        \n",
    "class B(A):\n",
    "    pass\n",
    "        \n",
    "class C(A):\n",
    "    pass\n",
    "\n",
    "class D(B,C):\n",
    "    pass"
   ]
  },
  {
   "cell_type": "code",
   "execution_count": 11,
   "id": "e7119108",
   "metadata": {},
   "outputs": [],
   "source": [
    "#if we make object of D\n",
    "o1 = D()"
   ]
  },
  {
   "cell_type": "code",
   "execution_count": 12,
   "id": "26cd8a2b",
   "metadata": {},
   "outputs": [
    {
     "name": "stdout",
     "output_type": "stream",
     "text": [
      "this method belongs to class A\n"
     ]
    }
   ],
   "source": [
    "o1.method()"
   ]
  },
  {
   "cell_type": "markdown",
   "id": "b15c8690",
   "metadata": {},
   "source": [
    "#### So it currently this method is giving class A"
   ]
  },
  {
   "cell_type": "markdown",
   "id": "29c9c32c",
   "metadata": {},
   "source": [
    "# Case 2\n",
    "We override method of A in B but not in C"
   ]
  },
  {
   "cell_type": "code",
   "execution_count": 13,
   "id": "7040be37",
   "metadata": {},
   "outputs": [],
   "source": [
    "class A:\n",
    "    @staticmethod\n",
    "    def method():\n",
    "        print('this method belongs to class A')\n",
    "        \n",
    "class B(A):\n",
    "    @staticmethod\n",
    "    def method():\n",
    "        print('this method belongs to class b')\n",
    "        \n",
    "        \n",
    "class C(A):\n",
    "    pass\n",
    "\n",
    "class D(B,C):\n",
    "    pass"
   ]
  },
  {
   "cell_type": "code",
   "execution_count": 14,
   "id": "b8c7d786",
   "metadata": {},
   "outputs": [],
   "source": [
    "o2 = D()"
   ]
  },
  {
   "cell_type": "code",
   "execution_count": 15,
   "id": "029f6f1b",
   "metadata": {},
   "outputs": [
    {
     "name": "stdout",
     "output_type": "stream",
     "text": [
      "this method belongs to class b\n"
     ]
    }
   ],
   "source": [
    "o2.method()"
   ]
  },
  {
   "cell_type": "markdown",
   "id": "3fb7bde1",
   "metadata": {},
   "source": [
    "### Now it has given B"
   ]
  },
  {
   "cell_type": "markdown",
   "id": "3ed174d5",
   "metadata": {},
   "source": [
    "# Case 3\n",
    "We override method of A in C but not in B"
   ]
  },
  {
   "cell_type": "code",
   "execution_count": 19,
   "id": "bb02e07e",
   "metadata": {},
   "outputs": [],
   "source": [
    "class A:\n",
    "    @staticmethod\n",
    "    def method():\n",
    "        print('this method belongs to class A')\n",
    "        \n",
    "class B(A):\n",
    "    pass\n",
    "        \n",
    "        \n",
    "class C(A):\n",
    "    @staticmethod\n",
    "    def method():\n",
    "        print('this method belongs to class C')\n",
    "\n",
    "class D(B,C):\n",
    "    pass"
   ]
  },
  {
   "cell_type": "code",
   "execution_count": 20,
   "id": "a327b503",
   "metadata": {},
   "outputs": [],
   "source": [
    "o3 = D()"
   ]
  },
  {
   "cell_type": "code",
   "execution_count": 21,
   "id": "bcc3fbb1",
   "metadata": {},
   "outputs": [
    {
     "name": "stdout",
     "output_type": "stream",
     "text": [
      "this method belongs to class C\n"
     ]
    }
   ],
   "source": [
    "o3.method()"
   ]
  },
  {
   "cell_type": "markdown",
   "id": "ee030061",
   "metadata": {},
   "source": [
    "#### Giving C"
   ]
  },
  {
   "cell_type": "markdown",
   "id": "8c8940dc",
   "metadata": {},
   "source": [
    "# Case 4\n",
    "We override method of A in both"
   ]
  },
  {
   "cell_type": "code",
   "execution_count": 27,
   "id": "1fb5f0b6",
   "metadata": {},
   "outputs": [],
   "source": [
    "class A:\n",
    "    @staticmethod\n",
    "    def method():\n",
    "        print('this method belongs to class A')\n",
    "        \n",
    "class B(A):\n",
    "    @staticmethod\n",
    "    def method():\n",
    "        print('this method belongs to class B')\n",
    "        \n",
    "        \n",
    "class C(A):\n",
    "    @staticmethod\n",
    "    def method():\n",
    "        print('this method belongs to class C')\n",
    "\n",
    "class D(B,C):\n",
    "    pass"
   ]
  },
  {
   "cell_type": "code",
   "execution_count": 28,
   "id": "83a636e9",
   "metadata": {},
   "outputs": [],
   "source": [
    "o4 = D()"
   ]
  },
  {
   "cell_type": "code",
   "execution_count": 29,
   "id": "623109ab",
   "metadata": {},
   "outputs": [
    {
     "name": "stdout",
     "output_type": "stream",
     "text": [
      "this method belongs to class B\n"
     ]
    }
   ],
   "source": [
    "o4.method()"
   ]
  },
  {
   "cell_type": "markdown",
   "id": "9b790c05",
   "metadata": {},
   "source": [
    "### It gave B according to preference  --> (B,C)"
   ]
  },
  {
   "cell_type": "code",
   "execution_count": null,
   "id": "576a673b",
   "metadata": {},
   "outputs": [],
   "source": []
  }
 ],
 "metadata": {
  "kernelspec": {
   "display_name": "Python 3 (ipykernel)",
   "language": "python",
   "name": "python3"
  },
  "language_info": {
   "codemirror_mode": {
    "name": "ipython",
    "version": 3
   },
   "file_extension": ".py",
   "mimetype": "text/x-python",
   "name": "python",
   "nbconvert_exporter": "python",
   "pygments_lexer": "ipython3",
   "version": "3.9.13"
  }
 },
 "nbformat": 4,
 "nbformat_minor": 5
}
