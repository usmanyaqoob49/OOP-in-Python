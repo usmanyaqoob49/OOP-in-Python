{
 "cells": [
  {
   "cell_type": "code",
   "execution_count": 1,
   "id": "c6450c3a",
   "metadata": {},
   "outputs": [],
   "source": [
    "#making a parent class\n",
    "class Employee:\n",
    "    def set_working_hours(self):\n",
    "        self.number_of_Working_hours = 40\n",
    "        \n",
    "    def display(self):\n",
    "        print('Number of working hours: ', self.number_of_Working_hours)"
   ]
  },
  {
   "cell_type": "code",
   "execution_count": 2,
   "id": "6ea6afed",
   "metadata": {},
   "outputs": [],
   "source": [
    "#child class-> Intern\n",
    "class intern(Employee):\n",
    "    #lets say intern has to workd 30 hours\n",
    "    #so two ways\n",
    "    #make new method to set working hours to 30 for intern\n",
    "    #or\n",
    "    #you can use polymorphic concept called as overriding \n",
    "    #that allow us to change the behaviour of method in derived class\n",
    "    \n",
    "    #so you will make method with same name that will save the memory\n",
    "    def set_working_hours(self):\n",
    "        self.number_of_Working_hours= 30\n",
    "        \n",
    "        #so you have override the behaviour of base class method"
   ]
  },
  {
   "cell_type": "code",
   "execution_count": 3,
   "id": "b970a3cb",
   "metadata": {},
   "outputs": [],
   "source": [
    "e1 = Employee()"
   ]
  },
  {
   "cell_type": "code",
   "execution_count": 4,
   "id": "abd964d8",
   "metadata": {},
   "outputs": [],
   "source": [
    "e1.set_working_hours()"
   ]
  },
  {
   "cell_type": "code",
   "execution_count": 5,
   "id": "f7c30b37",
   "metadata": {},
   "outputs": [
    {
     "name": "stdout",
     "output_type": "stream",
     "text": [
      "Number of working hours:  40\n"
     ]
    }
   ],
   "source": [
    "e1.display()"
   ]
  },
  {
   "cell_type": "code",
   "execution_count": 6,
   "id": "ac26509f",
   "metadata": {},
   "outputs": [],
   "source": [
    "intern1 = intern()"
   ]
  },
  {
   "cell_type": "code",
   "execution_count": 7,
   "id": "e718de72",
   "metadata": {},
   "outputs": [],
   "source": [
    "intern1.set_working_hours()"
   ]
  },
  {
   "cell_type": "code",
   "execution_count": 8,
   "id": "5dc93856",
   "metadata": {},
   "outputs": [
    {
     "name": "stdout",
     "output_type": "stream",
     "text": [
      "Number of working hours:  30\n"
     ]
    }
   ],
   "source": [
    "intern1.display()"
   ]
  },
  {
   "cell_type": "code",
   "execution_count": 10,
   "id": "e92755f8",
   "metadata": {},
   "outputs": [],
   "source": [
    "e2 = Employee()"
   ]
  },
  {
   "cell_type": "code",
   "execution_count": 11,
   "id": "aa55cab1",
   "metadata": {},
   "outputs": [],
   "source": [
    "e2.set_working_hours()"
   ]
  },
  {
   "cell_type": "code",
   "execution_count": 12,
   "id": "35b68656",
   "metadata": {},
   "outputs": [
    {
     "name": "stdout",
     "output_type": "stream",
     "text": [
      "Number of working hours:  40\n"
     ]
    }
   ],
   "source": [
    "e2.display()"
   ]
  },
  {
   "cell_type": "markdown",
   "id": "d17900c3",
   "metadata": {},
   "source": [
    "## Now, what if you want to call the base class method with the child's instance(object)?"
   ]
  },
  {
   "cell_type": "markdown",
   "id": "75757da9",
   "metadata": {},
   "source": [
    "we will use super() for that :)"
   ]
  },
  {
   "cell_type": "markdown",
   "id": "cdcaeddf",
   "metadata": {},
   "source": [
    "#### making another class where we will reset the woring hours by using the parent class method"
   ]
  },
  {
   "cell_type": "code",
   "execution_count": 14,
   "id": "516dfb90",
   "metadata": {},
   "outputs": [],
   "source": [
    "class intern2(Employee):\n",
    "    \n",
    "    #so you will make method with same name that will save the memory\n",
    "    def set_working_hours(self):\n",
    "        self.number_of_Working_hours= 30\n",
    "        \n",
    "    def reset_number_of_hours(self):\n",
    "        #when we do super() -> control is shifted to parent class\n",
    "        #and by doing super(). we can access to all parent methods\n",
    "        super().set_working_hours()"
   ]
  },
  {
   "cell_type": "code",
   "execution_count": 15,
   "id": "6dcd5cc7",
   "metadata": {},
   "outputs": [],
   "source": [
    "in1 = intern2()"
   ]
  },
  {
   "cell_type": "code",
   "execution_count": 16,
   "id": "912878ab",
   "metadata": {},
   "outputs": [],
   "source": [
    "in1.set_working_hours()"
   ]
  },
  {
   "cell_type": "code",
   "execution_count": 17,
   "id": "6cf65724",
   "metadata": {},
   "outputs": [
    {
     "name": "stdout",
     "output_type": "stream",
     "text": [
      "Number of working hours:  30\n"
     ]
    }
   ],
   "source": [
    "in1.display()"
   ]
  },
  {
   "cell_type": "code",
   "execution_count": 18,
   "id": "e57dfa1f",
   "metadata": {},
   "outputs": [],
   "source": [
    "in1.reset_number_of_hours()"
   ]
  },
  {
   "cell_type": "code",
   "execution_count": 19,
   "id": "72559209",
   "metadata": {},
   "outputs": [
    {
     "name": "stdout",
     "output_type": "stream",
     "text": [
      "Number of working hours:  40\n"
     ]
    }
   ],
   "source": [
    "in1.display()"
   ]
  },
  {
   "cell_type": "code",
   "execution_count": null,
   "id": "e504bd1f",
   "metadata": {},
   "outputs": [],
   "source": []
  }
 ],
 "metadata": {
  "kernelspec": {
   "display_name": "Python 3 (ipykernel)",
   "language": "python",
   "name": "python3"
  },
  "language_info": {
   "codemirror_mode": {
    "name": "ipython",
    "version": 3
   },
   "file_extension": ".py",
   "mimetype": "text/x-python",
   "name": "python",
   "nbconvert_exporter": "python",
   "pygments_lexer": "ipython3",
   "version": "3.9.13"
  }
 },
 "nbformat": 4,
 "nbformat_minor": 5
}
