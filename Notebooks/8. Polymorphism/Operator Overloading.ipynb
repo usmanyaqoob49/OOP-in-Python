{
 "cells": [
  {
   "cell_type": "markdown",
   "id": "0712ecd9",
   "metadata": {},
   "source": [
    "We want to add two squares (their sides multiplied and then added together)"
   ]
  },
  {
   "cell_type": "code",
   "execution_count": 1,
   "id": "4d7ae733",
   "metadata": {},
   "outputs": [],
   "source": [
    "class Square():\n",
    "    def __init__(self, side):\n",
    "        self.side = side\n",
    "        \n",
    "    #so we will write method for that becuase we can not do it with + default operator\n",
    "    #so we have special method __add__() where we can change functionality of +\n",
    "    \n",
    "    #we will pass them object of Square class that will have side as attribute\n",
    "    def __add__(square_one, square_two):\n",
    "        return (4* square_one.side) + (4* square_two.side)"
   ]
  },
  {
   "cell_type": "code",
   "execution_count": 2,
   "id": "2ec55a45",
   "metadata": {},
   "outputs": [],
   "source": [
    "s1 = Square(4)"
   ]
  },
  {
   "cell_type": "code",
   "execution_count": 3,
   "id": "cff1115b",
   "metadata": {},
   "outputs": [],
   "source": [
    "s2 = Square(5)"
   ]
  },
  {
   "cell_type": "code",
   "execution_count": 4,
   "id": "d1d19218",
   "metadata": {},
   "outputs": [
    {
     "data": {
      "text/plain": [
       "36"
      ]
     },
     "execution_count": 4,
     "metadata": {},
     "output_type": "execute_result"
    }
   ],
   "source": [
    "s1 + s2"
   ]
  },
  {
   "cell_type": "code",
   "execution_count": null,
   "id": "3b449d05",
   "metadata": {},
   "outputs": [],
   "source": []
  }
 ],
 "metadata": {
  "kernelspec": {
   "display_name": "Python 3 (ipykernel)",
   "language": "python",
   "name": "python3"
  },
  "language_info": {
   "codemirror_mode": {
    "name": "ipython",
    "version": 3
   },
   "file_extension": ".py",
   "mimetype": "text/x-python",
   "name": "python",
   "nbconvert_exporter": "python",
   "pygments_lexer": "ipython3",
   "version": "3.9.13"
  }
 },
 "nbformat": 4,
 "nbformat_minor": 5
}
