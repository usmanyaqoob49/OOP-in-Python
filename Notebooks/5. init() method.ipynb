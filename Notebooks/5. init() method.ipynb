{
 "cells": [
  {
   "cell_type": "code",
   "execution_count": 1,
   "id": "b8c38fcc",
   "metadata": {},
   "outputs": [],
   "source": [
    "#lets maeke a class where we have two methods"
   ]
  },
  {
   "cell_type": "code",
   "execution_count": 2,
   "id": "b983e935",
   "metadata": {},
   "outputs": [],
   "source": [
    "class Employee():\n",
    "    def details(self):\n",
    "        self.name = 'Usman'\n",
    "    \n",
    "    def printdetails(self):\n",
    "        print(self.name)"
   ]
  },
  {
   "cell_type": "code",
   "execution_count": 3,
   "id": "b738d63e",
   "metadata": {},
   "outputs": [],
   "source": [
    "#now lets make object"
   ]
  },
  {
   "cell_type": "code",
   "execution_count": 4,
   "id": "ab326d55",
   "metadata": {},
   "outputs": [],
   "source": [
    "e = Employee()"
   ]
  },
  {
   "cell_type": "code",
   "execution_count": 5,
   "id": "464d721c",
   "metadata": {},
   "outputs": [],
   "source": [
    "#now if we access the printdetails() method"
   ]
  },
  {
   "cell_type": "code",
   "execution_count": 6,
   "id": "ed7fb67f",
   "metadata": {},
   "outputs": [
    {
     "ename": "AttributeError",
     "evalue": "'Employee' object has no attribute 'name'",
     "output_type": "error",
     "traceback": [
      "\u001b[1;31m---------------------------------------------------------------------------\u001b[0m",
      "\u001b[1;31mAttributeError\u001b[0m                            Traceback (most recent call last)",
      "\u001b[1;32m~\\AppData\\Local\\Temp\\ipykernel_14888\\157289219.py\u001b[0m in \u001b[0;36m<module>\u001b[1;34m\u001b[0m\n\u001b[1;32m----> 1\u001b[1;33m \u001b[0me\u001b[0m\u001b[1;33m.\u001b[0m\u001b[0mprintdetails\u001b[0m\u001b[1;33m(\u001b[0m\u001b[1;33m)\u001b[0m\u001b[1;33m\u001b[0m\u001b[1;33m\u001b[0m\u001b[0m\n\u001b[0m",
      "\u001b[1;32m~\\AppData\\Local\\Temp\\ipykernel_14888\\2060377276.py\u001b[0m in \u001b[0;36mprintdetails\u001b[1;34m(self)\u001b[0m\n\u001b[0;32m      4\u001b[0m \u001b[1;33m\u001b[0m\u001b[0m\n\u001b[0;32m      5\u001b[0m     \u001b[1;32mdef\u001b[0m \u001b[0mprintdetails\u001b[0m\u001b[1;33m(\u001b[0m\u001b[0mself\u001b[0m\u001b[1;33m)\u001b[0m\u001b[1;33m:\u001b[0m\u001b[1;33m\u001b[0m\u001b[1;33m\u001b[0m\u001b[0m\n\u001b[1;32m----> 6\u001b[1;33m         \u001b[0mprint\u001b[0m\u001b[1;33m(\u001b[0m\u001b[0mself\u001b[0m\u001b[1;33m.\u001b[0m\u001b[0mname\u001b[0m\u001b[1;33m)\u001b[0m\u001b[1;33m\u001b[0m\u001b[1;33m\u001b[0m\u001b[0m\n\u001b[0m",
      "\u001b[1;31mAttributeError\u001b[0m: 'Employee' object has no attribute 'name'"
     ]
    }
   ],
   "source": [
    "e.printdetails()"
   ]
  },
  {
   "cell_type": "code",
   "execution_count": 7,
   "id": "110d230a",
   "metadata": {},
   "outputs": [],
   "source": [
    "#It throws an error becuase we have call second function first means In first function we had the initialization of the \n",
    "#self.name attribute\n",
    "\n",
    "#so it is initialized yet"
   ]
  },
  {
   "cell_type": "code",
   "execution_count": 8,
   "id": "91b516c1",
   "metadata": {},
   "outputs": [],
   "source": [
    "#so here init() comes in the scence"
   ]
  },
  {
   "cell_type": "code",
   "execution_count": 9,
   "id": "71481ace",
   "metadata": {},
   "outputs": [],
   "source": [
    "#so basically init() is the special method that is first to be called when we make an object"
   ]
  },
  {
   "cell_type": "code",
   "execution_count": 10,
   "id": "b997ddc1",
   "metadata": {},
   "outputs": [],
   "source": [
    "#now classs with init() method"
   ]
  },
  {
   "cell_type": "code",
   "execution_count": 12,
   "id": "c52664a9",
   "metadata": {},
   "outputs": [],
   "source": [
    "class Employee2():\n",
    "    def __init__(self):\n",
    "        self.name = 'Usman'\n",
    "    \n",
    "    def printdetails(self):\n",
    "        print(self.name)"
   ]
  },
  {
   "cell_type": "code",
   "execution_count": 13,
   "id": "eaee93f3",
   "metadata": {},
   "outputs": [],
   "source": [
    "e2 = Employee2()"
   ]
  },
  {
   "cell_type": "code",
   "execution_count": 14,
   "id": "59b7803d",
   "metadata": {},
   "outputs": [
    {
     "name": "stdout",
     "output_type": "stream",
     "text": [
      "Usman\n"
     ]
    }
   ],
   "source": [
    "e2.printdetails()"
   ]
  },
  {
   "cell_type": "code",
   "execution_count": 15,
   "id": "d5b96f78",
   "metadata": {},
   "outputs": [],
   "source": [
    "#now if we make another object"
   ]
  },
  {
   "cell_type": "code",
   "execution_count": 16,
   "id": "f2df10f3",
   "metadata": {},
   "outputs": [],
   "source": [
    "e3 = Employee2()\n"
   ]
  },
  {
   "cell_type": "code",
   "execution_count": 18,
   "id": "a9ae80f9",
   "metadata": {},
   "outputs": [
    {
     "name": "stdout",
     "output_type": "stream",
     "text": [
      "Usman\n"
     ]
    }
   ],
   "source": [
    "e3.printdetails()"
   ]
  },
  {
   "cell_type": "code",
   "execution_count": 19,
   "id": "ce724443",
   "metadata": {},
   "outputs": [],
   "source": [
    "#so it gave same name for both of employess"
   ]
  },
  {
   "cell_type": "code",
   "execution_count": 20,
   "id": "78d85d99",
   "metadata": {},
   "outputs": [],
   "source": [
    "#so what we can do is we can pass a parameter name (of employee) with object and init() will assign that name to self.name\n",
    "#i.e"
   ]
  },
  {
   "cell_type": "code",
   "execution_count": 21,
   "id": "3c00b865",
   "metadata": {},
   "outputs": [],
   "source": [
    "class Employee3():\n",
    "                #another parameter name to get the name of employee with object\n",
    "    def __init__(self, name):\n",
    "        #just assign name passed (as parameter) to self.name which is intance attribute\n",
    "        self.name = name\n",
    "    \n",
    "    def printdetails(self):\n",
    "        print(self.name)"
   ]
  },
  {
   "cell_type": "code",
   "execution_count": 23,
   "id": "8e4f985f",
   "metadata": {},
   "outputs": [],
   "source": [
    "emp = Employee3('Usman')"
   ]
  },
  {
   "cell_type": "code",
   "execution_count": 24,
   "id": "cd3c29cf",
   "metadata": {},
   "outputs": [],
   "source": [
    "emp1 = Employee3('Ali')"
   ]
  },
  {
   "cell_type": "code",
   "execution_count": 25,
   "id": "a6d2c49f",
   "metadata": {},
   "outputs": [
    {
     "name": "stdout",
     "output_type": "stream",
     "text": [
      "Usman\n"
     ]
    }
   ],
   "source": [
    "emp.printdetails()"
   ]
  },
  {
   "cell_type": "code",
   "execution_count": 26,
   "id": "1ffd2504",
   "metadata": {},
   "outputs": [
    {
     "name": "stdout",
     "output_type": "stream",
     "text": [
      "Ali\n"
     ]
    }
   ],
   "source": [
    "emp1.printdetails()"
   ]
  }
 ],
 "metadata": {
  "kernelspec": {
   "display_name": "Python 3 (ipykernel)",
   "language": "python",
   "name": "python3"
  },
  "language_info": {
   "codemirror_mode": {
    "name": "ipython",
    "version": 3
   },
   "file_extension": ".py",
   "mimetype": "text/x-python",
   "name": "python",
   "nbconvert_exporter": "python",
   "pygments_lexer": "ipython3",
   "version": "3.9.13"
  }
 },
 "nbformat": 4,
 "nbformat_minor": 5
}
