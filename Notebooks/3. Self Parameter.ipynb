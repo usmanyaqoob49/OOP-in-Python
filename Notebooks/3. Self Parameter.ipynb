{
 "cells": [
  {
   "cell_type": "code",
   "execution_count": 1,
   "id": "5522cb57",
   "metadata": {},
   "outputs": [],
   "source": [
    "#lets create class where we will not pass self parameter to any method of it"
   ]
  },
  {
   "cell_type": "code",
   "execution_count": 2,
   "id": "77debacd",
   "metadata": {},
   "outputs": [],
   "source": [
    "class Employee():\n",
    "    #without self\n",
    "    def details():\n",
    "        #lets do nothing here\n",
    "        pass\n",
    "    "
   ]
  },
  {
   "cell_type": "code",
   "execution_count": 3,
   "id": "5d069b32",
   "metadata": {},
   "outputs": [],
   "source": [
    "#making object for class"
   ]
  },
  {
   "cell_type": "code",
   "execution_count": 4,
   "id": "70f8712c",
   "metadata": {},
   "outputs": [],
   "source": [
    "e1 = Employee()"
   ]
  },
  {
   "cell_type": "code",
   "execution_count": 7,
   "id": "cdd6f247",
   "metadata": {},
   "outputs": [],
   "source": [
    "#lets call method using object"
   ]
  },
  {
   "cell_type": "code",
   "execution_count": 6,
   "id": "4eb2b5ba",
   "metadata": {},
   "outputs": [
    {
     "ename": "TypeError",
     "evalue": "details() takes 0 positional arguments but 1 was given",
     "output_type": "error",
     "traceback": [
      "\u001b[1;31m---------------------------------------------------------------------------\u001b[0m",
      "\u001b[1;31mTypeError\u001b[0m                                 Traceback (most recent call last)",
      "\u001b[1;32m~\\AppData\\Local\\Temp\\ipykernel_1936\\2746478671.py\u001b[0m in \u001b[0;36m<module>\u001b[1;34m\u001b[0m\n\u001b[1;32m----> 1\u001b[1;33m \u001b[0me1\u001b[0m\u001b[1;33m.\u001b[0m\u001b[0mdetails\u001b[0m\u001b[1;33m(\u001b[0m\u001b[1;33m)\u001b[0m\u001b[1;33m\u001b[0m\u001b[1;33m\u001b[0m\u001b[0m\n\u001b[0m",
      "\u001b[1;31mTypeError\u001b[0m: details() takes 0 positional arguments but 1 was given"
     ]
    }
   ],
   "source": [
    "e1.details()"
   ]
  },
  {
   "cell_type": "code",
   "execution_count": 8,
   "id": "e0423838",
   "metadata": {},
   "outputs": [],
   "source": [
    "#so basically what python do is while processing e1.details()\n",
    "#it basicallly executes: Employee.details(e1) in the background"
   ]
  },
  {
   "cell_type": "code",
   "execution_count": 9,
   "id": "e8a10795",
   "metadata": {},
   "outputs": [],
   "source": [
    "#we can use above style of calling method too(this one:Employee.details(e1))"
   ]
  },
  {
   "cell_type": "code",
   "execution_count": 10,
   "id": "0508c240",
   "metadata": {},
   "outputs": [],
   "source": [
    "#now to recieve e1 parameter we have to make parameter self"
   ]
  },
  {
   "cell_type": "code",
   "execution_count": 19,
   "id": "c8d96262",
   "metadata": {},
   "outputs": [],
   "source": [
    "class Employee2():\n",
    "    #with self to recieve the object in parameter\n",
    "    def details(self):\n",
    "        #making attribute using self object\n",
    "        self.name = 'Usman'\n",
    "        print('name: ', self.name)\n",
    "        \n",
    "        #lets add another parameter withoud using self\n",
    "        age = 30\n",
    "        print('age', age)"
   ]
  },
  {
   "cell_type": "code",
   "execution_count": 20,
   "id": "dc14874d",
   "metadata": {},
   "outputs": [],
   "source": [
    "e2 = Employee2()\n"
   ]
  },
  {
   "cell_type": "code",
   "execution_count": 21,
   "id": "569d6998",
   "metadata": {},
   "outputs": [
    {
     "name": "stdout",
     "output_type": "stream",
     "text": [
      "name:  Usman\n",
      "age 30\n"
     ]
    }
   ],
   "source": [
    "e2.details()"
   ]
  },
  {
   "cell_type": "code",
   "execution_count": 23,
   "id": "aa01841f",
   "metadata": {},
   "outputs": [],
   "source": [
    "#so both are printing well then whats the difference?\n"
   ]
  },
  {
   "cell_type": "code",
   "execution_count": 24,
   "id": "751ef817",
   "metadata": {},
   "outputs": [],
   "source": [
    "#lets make another class to understand this"
   ]
  },
  {
   "cell_type": "code",
   "execution_count": 25,
   "id": "9679a9b1",
   "metadata": {},
   "outputs": [],
   "source": [
    "class Employee3():\n",
    "    #with self to recieve the object in parameter\n",
    "    def details(self):\n",
    "        #making attribute using self object\n",
    "        self.name = 'Usman'        \n",
    "        #lets add another parameter withoud using self\n",
    "        age = 30\n",
    "    \n",
    "    #here lets make another method to print both attriubutes\n",
    "    def print(self):\n",
    "        print(self.name)\n",
    "        #as age was made without self\n",
    "        print(age)"
   ]
  },
  {
   "cell_type": "code",
   "execution_count": 26,
   "id": "94dd9c3e",
   "metadata": {},
   "outputs": [],
   "source": [
    "e9 = Employee3()"
   ]
  },
  {
   "cell_type": "code",
   "execution_count": 27,
   "id": "d94a0341",
   "metadata": {},
   "outputs": [],
   "source": [
    "e9.details()"
   ]
  },
  {
   "cell_type": "code",
   "execution_count": 28,
   "id": "2c467416",
   "metadata": {},
   "outputs": [
    {
     "name": "stdout",
     "output_type": "stream",
     "text": [
      "Usman\n"
     ]
    },
    {
     "ename": "NameError",
     "evalue": "name 'age' is not defined",
     "output_type": "error",
     "traceback": [
      "\u001b[1;31m---------------------------------------------------------------------------\u001b[0m",
      "\u001b[1;31mNameError\u001b[0m                                 Traceback (most recent call last)",
      "\u001b[1;32m~\\AppData\\Local\\Temp\\ipykernel_1936\\4049593237.py\u001b[0m in \u001b[0;36m<module>\u001b[1;34m\u001b[0m\n\u001b[1;32m----> 1\u001b[1;33m \u001b[0me9\u001b[0m\u001b[1;33m.\u001b[0m\u001b[0mprint\u001b[0m\u001b[1;33m(\u001b[0m\u001b[1;33m)\u001b[0m\u001b[1;33m\u001b[0m\u001b[1;33m\u001b[0m\u001b[0m\n\u001b[0m",
      "\u001b[1;32m~\\AppData\\Local\\Temp\\ipykernel_1936\\849817805.py\u001b[0m in \u001b[0;36mprint\u001b[1;34m(self)\u001b[0m\n\u001b[0;32m     11\u001b[0m         \u001b[0mprint\u001b[0m\u001b[1;33m(\u001b[0m\u001b[0mself\u001b[0m\u001b[1;33m.\u001b[0m\u001b[0mname\u001b[0m\u001b[1;33m)\u001b[0m\u001b[1;33m\u001b[0m\u001b[1;33m\u001b[0m\u001b[0m\n\u001b[0;32m     12\u001b[0m         \u001b[1;31m#as age was made without self\u001b[0m\u001b[1;33m\u001b[0m\u001b[1;33m\u001b[0m\u001b[0m\n\u001b[1;32m---> 13\u001b[1;33m         \u001b[0mprint\u001b[0m\u001b[1;33m(\u001b[0m\u001b[0mage\u001b[0m\u001b[1;33m)\u001b[0m\u001b[1;33m\u001b[0m\u001b[1;33m\u001b[0m\u001b[0m\n\u001b[0m",
      "\u001b[1;31mNameError\u001b[0m: name 'age' is not defined"
     ]
    }
   ],
   "source": [
    "e9.print()"
   ]
  },
  {
   "cell_type": "code",
   "execution_count": 29,
   "id": "b009f2b4",
   "metadata": {},
   "outputs": [],
   "source": [
    "#so it prints the name but gave error on age, as without self it is not accessable without that methods(details) span"
   ]
  },
  {
   "cell_type": "code",
   "execution_count": null,
   "id": "1afc49d5",
   "metadata": {},
   "outputs": [],
   "source": []
  }
 ],
 "metadata": {
  "kernelspec": {
   "display_name": "Python 3 (ipykernel)",
   "language": "python",
   "name": "python3"
  },
  "language_info": {
   "codemirror_mode": {
    "name": "ipython",
    "version": 3
   },
   "file_extension": ".py",
   "mimetype": "text/x-python",
   "name": "python",
   "nbconvert_exporter": "python",
   "pygments_lexer": "ipython3",
   "version": "3.9.13"
  }
 },
 "nbformat": 4,
 "nbformat_minor": 5
}
