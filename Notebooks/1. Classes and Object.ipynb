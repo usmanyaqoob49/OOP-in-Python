{
 "cells": [
  {
   "cell_type": "code",
   "execution_count": 1,
   "id": "aeeefdc2",
   "metadata": {},
   "outputs": [],
   "source": [
    "#check if employee has achieved his weekly goals or not"
   ]
  },
  {
   "cell_type": "code",
   "execution_count": 2,
   "id": "ffda6b2d",
   "metadata": {},
   "outputs": [],
   "source": [
    "#noun = employee = class\n",
    "\n",
    "#adjectives = properties of employee like\n",
    "                #name, designation, and weekly sales\n",
    "    \n",
    "#action/verb = achieved weekly task"
   ]
  },
  {
   "cell_type": "code",
   "execution_count": 4,
   "id": "4236d0b8",
   "metadata": {},
   "outputs": [],
   "source": [
    "class Employee:\n",
    "    name = 'Usman'\n",
    "    designation = 'hello world'\n",
    "    weekly_Sales = 6\n",
    "    \n",
    "    #method\n",
    "    #self is default parameter used to access attributes of class\n",
    "    def weekly_task(self):\n",
    "        #accessing class attributes\n",
    "        if self.weekly_Sales >= 5:\n",
    "            print('sales target achieved')\n",
    "        else:\n",
    "            print(failed)\n",
    "        "
   ]
  },
  {
   "cell_type": "code",
   "execution_count": 6,
   "id": "dc4bfe66",
   "metadata": {},
   "outputs": [],
   "source": [
    "#To access the class we have to make object of class\n",
    "emp1 = Employee()\n",
    "#^object"
   ]
  },
  {
   "cell_type": "code",
   "execution_count": 9,
   "id": "de2f75b7",
   "metadata": {},
   "outputs": [
    {
     "data": {
      "text/plain": [
       "'Usman'"
      ]
     },
     "execution_count": 9,
     "metadata": {},
     "output_type": "execute_result"
    }
   ],
   "source": [
    "#accessing\n",
    "emp1.name"
   ]
  },
  {
   "cell_type": "code",
   "execution_count": 10,
   "id": "0fbfb36e",
   "metadata": {},
   "outputs": [
    {
     "data": {
      "text/plain": [
       "'hello world'"
      ]
     },
     "execution_count": 10,
     "metadata": {},
     "output_type": "execute_result"
    }
   ],
   "source": [
    "emp1.designation"
   ]
  },
  {
   "cell_type": "code",
   "execution_count": 12,
   "id": "135fd9b5",
   "metadata": {},
   "outputs": [
    {
     "name": "stdout",
     "output_type": "stream",
     "text": [
      "sales target achieved\n"
     ]
    }
   ],
   "source": [
    "emp1.weekly_task()"
   ]
  },
  {
   "cell_type": "code",
   "execution_count": 13,
   "id": "6ed1c3ae",
   "metadata": {},
   "outputs": [],
   "source": [
    "#so now if we make employee 2 object\n",
    "emp2 = Employee()"
   ]
  },
  {
   "cell_type": "code",
   "execution_count": 14,
   "id": "e8604772",
   "metadata": {},
   "outputs": [
    {
     "data": {
      "text/plain": [
       "'Usman'"
      ]
     },
     "execution_count": 14,
     "metadata": {},
     "output_type": "execute_result"
    }
   ],
   "source": [
    "emp2.name"
   ]
  },
  {
   "cell_type": "code",
   "execution_count": 15,
   "id": "3db232eb",
   "metadata": {},
   "outputs": [],
   "source": [
    "#it is giving same name for employee2 too, so its not a good way to make attributs"
   ]
  },
  {
   "cell_type": "code",
   "execution_count": null,
   "id": "9419ac60",
   "metadata": {},
   "outputs": [],
   "source": []
  }
 ],
 "metadata": {
  "kernelspec": {
   "display_name": "Python 3 (ipykernel)",
   "language": "python",
   "name": "python3"
  },
  "language_info": {
   "codemirror_mode": {
    "name": "ipython",
    "version": 3
   },
   "file_extension": ".py",
   "mimetype": "text/x-python",
   "name": "python",
   "nbconvert_exporter": "python",
   "pygments_lexer": "ipython3",
   "version": "3.9.13"
  }
 },
 "nbformat": 4,
 "nbformat_minor": 5
}
