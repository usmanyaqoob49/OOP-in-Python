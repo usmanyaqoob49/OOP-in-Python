{
 "cells": [
  {
   "cell_type": "code",
   "execution_count": 1,
   "id": "190362d7",
   "metadata": {},
   "outputs": [],
   "source": [
    "#Write an object oriented program to create a precious stone. \n",
    "#Not more than 5 precious stones can be held in possession at a \n",
    "#given point of time. If there are more than 5 precious stones, \n",
    "#delete the first stone and store the new one"
   ]
  },
  {
   "cell_type": "code",
   "execution_count": 23,
   "id": "b9f66a7a",
   "metadata": {},
   "outputs": [
    {
     "name": "stdout",
     "output_type": "stream",
     "text": [
      "Ruby Emerald Sapphire Diamond Amber \n",
      "Emerald Sapphire Diamond Amber Onyx \n"
     ]
    }
   ],
   "source": [
    "class PreciousStone:\n",
    "    numberOfPreciousStones = 0\n",
    "    preciousStoneCollection = []\n",
    "    def __init__(self, name):\n",
    "        self.name = name\n",
    "        # Increment the number of preciousStones\n",
    "        PreciousStone.numberOfPreciousStones += 1\n",
    "        # Append the precious stone to the list if total number of stones are less than 5\n",
    "        if PreciousStone.numberOfPreciousStones <= 5:\n",
    "            PreciousStone.preciousStoneCollection.append(self)\n",
    "        else:\n",
    "            # If more than 5 stones are present, delete the first one and store the new one\n",
    "            del PreciousStone.preciousStoneCollection[0]\n",
    "            PreciousStone.preciousStoneCollection.append(self)\n",
    "\n",
    "    @staticmethod\n",
    "    def displayPreciousStones():\n",
    "        for preciousStone in PreciousStone.preciousStoneCollection:\n",
    "            print(preciousStone.name, end = ' ')\n",
    "        print()\n",
    "\n",
    "preciousStoneOne  = PreciousStone(\"Ruby\")\n",
    "preciousStoneTwo  = PreciousStone(\"Emerald\")\n",
    "preciousStoneThree  = PreciousStone(\"Sapphire\")\n",
    "preciousStoneFour  = PreciousStone(\"Diamond\")\n",
    "preciousStoneFive  = PreciousStone(\"Amber\")\n",
    "preciousStoneFive.displayPreciousStones()\n",
    "preciousStoneSix = PreciousStone(\"Onyx\")\n",
    "# Print all the stones after deleting the first stone\n",
    "preciousStoneSix.displayPreciousStones()\n"
   ]
  },
  {
   "cell_type": "code",
   "execution_count": null,
   "id": "682f5e61",
   "metadata": {},
   "outputs": [],
   "source": []
  },
  {
   "cell_type": "code",
   "execution_count": null,
   "id": "976425d1",
   "metadata": {},
   "outputs": [],
   "source": []
  }
 ],
 "metadata": {
  "kernelspec": {
   "display_name": "Python 3 (ipykernel)",
   "language": "python",
   "name": "python3"
  },
  "language_info": {
   "codemirror_mode": {
    "name": "ipython",
    "version": 3
   },
   "file_extension": ".py",
   "mimetype": "text/x-python",
   "name": "python",
   "nbconvert_exporter": "python",
   "pygments_lexer": "ipython3",
   "version": "3.9.13"
  }
 },
 "nbformat": 4,
 "nbformat_minor": 5
}
