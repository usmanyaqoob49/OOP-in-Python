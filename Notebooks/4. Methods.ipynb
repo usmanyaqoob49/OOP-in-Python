{
 "cells": [
  {
   "cell_type": "code",
   "execution_count": 1,
   "id": "7b945ced",
   "metadata": {},
   "outputs": [],
   "source": [
    "#Instance Method\n",
    "#those methods of class that uses self parameter for accessing the intance attributes"
   ]
  },
  {
   "cell_type": "code",
   "execution_count": 2,
   "id": "0fa8c4fb",
   "metadata": {},
   "outputs": [],
   "source": [
    "#Lets code for Instance Method"
   ]
  },
  {
   "cell_type": "code",
   "execution_count": 10,
   "id": "5567daa5",
   "metadata": {},
   "outputs": [],
   "source": [
    "class Employee():\n",
    "    def details(self):\n",
    "        #using self parameter lets make an attribute\n",
    "        self.name = 'Usman'\n",
    "        \n",
    "    #lets make another method to print something\n",
    "    def print(self):\n",
    "        print('only print but not static')\n",
    "        \n",
    "    #as you can see I am not using self paramter in prnit method but i have to use it to avoid errors\n",
    "    #here the Static Methods come in the scene\n",
    "    #Static methods are those methods that does not use self parameter\n",
    "    \n",
    "    #To make a static print method\n",
    "    @staticmethod\n",
    "    def hello():\n",
    "        print('static method')"
   ]
  },
  {
   "cell_type": "code",
   "execution_count": 4,
   "id": "fb106f95",
   "metadata": {},
   "outputs": [],
   "source": [
    "#make an object"
   ]
  },
  {
   "cell_type": "code",
   "execution_count": 12,
   "id": "f2564057",
   "metadata": {},
   "outputs": [],
   "source": [
    "emp = Employee()"
   ]
  },
  {
   "cell_type": "code",
   "execution_count": 13,
   "id": "6123cc60",
   "metadata": {},
   "outputs": [],
   "source": [
    "emp.details()"
   ]
  },
  {
   "cell_type": "code",
   "execution_count": 14,
   "id": "65f1888a",
   "metadata": {},
   "outputs": [
    {
     "data": {
      "text/plain": [
       "'Usman'"
      ]
     },
     "execution_count": 14,
     "metadata": {},
     "output_type": "execute_result"
    }
   ],
   "source": [
    "emp.name"
   ]
  },
  {
   "cell_type": "code",
   "execution_count": 15,
   "id": "34028e97",
   "metadata": {},
   "outputs": [
    {
     "name": "stdout",
     "output_type": "stream",
     "text": [
      "only print but not static\n"
     ]
    }
   ],
   "source": [
    "emp.print()"
   ]
  },
  {
   "cell_type": "code",
   "execution_count": 16,
   "id": "a541424c",
   "metadata": {},
   "outputs": [
    {
     "name": "stdout",
     "output_type": "stream",
     "text": [
      "static method\n"
     ]
    }
   ],
   "source": [
    "emp.hello()\n"
   ]
  },
  {
   "cell_type": "code",
   "execution_count": null,
   "id": "eef3c807",
   "metadata": {},
   "outputs": [],
   "source": []
  }
 ],
 "metadata": {
  "kernelspec": {
   "display_name": "Python 3 (ipykernel)",
   "language": "python",
   "name": "python3"
  },
  "language_info": {
   "codemirror_mode": {
    "name": "ipython",
    "version": 3
   },
   "file_extension": ".py",
   "mimetype": "text/x-python",
   "name": "python",
   "nbconvert_exporter": "python",
   "pygments_lexer": "ipython3",
   "version": "3.9.13"
  }
 },
 "nbformat": 4,
 "nbformat_minor": 5
}
