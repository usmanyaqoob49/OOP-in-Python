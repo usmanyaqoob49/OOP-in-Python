{
 "cells": [
  {
   "cell_type": "markdown",
   "id": "e6bfba14",
   "metadata": {},
   "source": [
    "Parent Class"
   ]
  },
  {
   "cell_type": "code",
   "execution_count": 2,
   "id": "cb47ec33",
   "metadata": {},
   "outputs": [],
   "source": [
    "class Apple():\n",
    "    manufacturer = 'Apple Inc'\n",
    "    contact_web = 'www.apple.com/contact'\n",
    "    \n",
    "    def contactdetails(self):\n",
    "        print('contact details: ', self.contact_web)"
   ]
  },
  {
   "cell_type": "markdown",
   "id": "08e61a2f",
   "metadata": {},
   "source": [
    "Child Class"
   ]
  },
  {
   "cell_type": "code",
   "execution_count": 4,
   "id": "ece1e27a",
   "metadata": {},
   "outputs": [],
   "source": [
    "class MacBook(Apple):\n",
    "    def __init__(self):\n",
    "        self.year_of_manufacture = 2023\n",
    "    def manufacture_details(self):\n",
    "        print('This Mac book was manufactured in {} by {} '.format(self.year_of_manufacture, self.manufacturer))"
   ]
  },
  {
   "cell_type": "code",
   "execution_count": 6,
   "id": "e32ebf17",
   "metadata": {},
   "outputs": [],
   "source": [
    "mac_child = MacBook()"
   ]
  },
  {
   "cell_type": "code",
   "execution_count": 7,
   "id": "862c642e",
   "metadata": {},
   "outputs": [
    {
     "data": {
      "text/plain": [
       "2023"
      ]
     },
     "execution_count": 7,
     "metadata": {},
     "output_type": "execute_result"
    }
   ],
   "source": [
    "mac_child.year_of_manufacture"
   ]
  },
  {
   "cell_type": "code",
   "execution_count": 8,
   "id": "58df4450",
   "metadata": {},
   "outputs": [
    {
     "name": "stdout",
     "output_type": "stream",
     "text": [
      "This Mac book was manufactured in 2023 by Apple Inc \n"
     ]
    }
   ],
   "source": [
    "mac_child.manufacture_details()"
   ]
  },
  {
   "cell_type": "code",
   "execution_count": 9,
   "id": "59065d95",
   "metadata": {},
   "outputs": [
    {
     "data": {
      "text/plain": [
       "'www.apple.com/contact'"
      ]
     },
     "execution_count": 9,
     "metadata": {},
     "output_type": "execute_result"
    }
   ],
   "source": [
    "mac_child.contact_web"
   ]
  },
  {
   "cell_type": "code",
   "execution_count": 10,
   "id": "8ed0f852",
   "metadata": {},
   "outputs": [
    {
     "name": "stdout",
     "output_type": "stream",
     "text": [
      "contact details:  www.apple.com/contact\n"
     ]
    }
   ],
   "source": [
    "mac_child.contactdetails()"
   ]
  },
  {
   "cell_type": "code",
   "execution_count": null,
   "id": "df8d090b",
   "metadata": {},
   "outputs": [],
   "source": []
  }
 ],
 "metadata": {
  "kernelspec": {
   "display_name": "Python 3 (ipykernel)",
   "language": "python",
   "name": "python3"
  },
  "language_info": {
   "codemirror_mode": {
    "name": "ipython",
    "version": 3
   },
   "file_extension": ".py",
   "mimetype": "text/x-python",
   "name": "python",
   "nbconvert_exporter": "python",
   "pygments_lexer": "ipython3",
   "version": "3.9.13"
  }
 },
 "nbformat": 4,
 "nbformat_minor": 5
}
