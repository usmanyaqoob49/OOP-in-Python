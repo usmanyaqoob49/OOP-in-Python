{
 "cells": [
  {
   "cell_type": "markdown",
   "id": "c83855c8",
   "metadata": {},
   "source": [
    "Parent class 1"
   ]
  },
  {
   "cell_type": "code",
   "execution_count": 1,
   "id": "081f8b46",
   "metadata": {},
   "outputs": [],
   "source": [
    "class os():\n",
    "    name = 'macontosh 1.6'\n",
    "    multitasking = True"
   ]
  },
  {
   "cell_type": "markdown",
   "id": "685d5e36",
   "metadata": {},
   "source": [
    "Parent class 2"
   ]
  },
  {
   "cell_type": "code",
   "execution_count": 2,
   "id": "fc265060",
   "metadata": {},
   "outputs": [],
   "source": [
    "class Apple():\n",
    "    web = 'www.apple.com'"
   ]
  },
  {
   "cell_type": "markdown",
   "id": "e963202b",
   "metadata": {},
   "source": [
    "Child class derived from parent class 1 and 2"
   ]
  },
  {
   "cell_type": "code",
   "execution_count": 3,
   "id": "1ce69184",
   "metadata": {},
   "outputs": [],
   "source": [
    "class MacBook(os, Apple):\n",
    "    def print_Details(self):\n",
    "        print('This MacBook has OS : {} and manufactured by {}'.format(self.name,self.web))"
   ]
  },
  {
   "cell_type": "code",
   "execution_count": 4,
   "id": "a6e19ec1",
   "metadata": {},
   "outputs": [],
   "source": [
    "m1 = MacBook()"
   ]
  },
  {
   "cell_type": "code",
   "execution_count": 5,
   "id": "c14d9946",
   "metadata": {},
   "outputs": [
    {
     "name": "stdout",
     "output_type": "stream",
     "text": [
      "This MacBook has OS : macontosh 1.6 and manufactured by www.apple.com\n"
     ]
    }
   ],
   "source": [
    "m1.print_Details()"
   ]
  },
  {
   "cell_type": "code",
   "execution_count": null,
   "id": "76517bd3",
   "metadata": {},
   "outputs": [],
   "source": []
  }
 ],
 "metadata": {
  "kernelspec": {
   "display_name": "Python 3 (ipykernel)",
   "language": "python",
   "name": "python3"
  },
  "language_info": {
   "codemirror_mode": {
    "name": "ipython",
    "version": 3
   },
   "file_extension": ".py",
   "mimetype": "text/x-python",
   "name": "python",
   "nbconvert_exporter": "python",
   "pygments_lexer": "ipython3",
   "version": "3.9.13"
  }
 },
 "nbformat": 4,
 "nbformat_minor": 5
}
