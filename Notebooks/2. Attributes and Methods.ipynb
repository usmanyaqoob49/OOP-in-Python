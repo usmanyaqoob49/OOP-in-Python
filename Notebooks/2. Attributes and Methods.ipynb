{
 "cells": [
  {
   "cell_type": "code",
   "execution_count": 1,
   "id": "101b7e3b",
   "metadata": {},
   "outputs": [],
   "source": [
    "class Employee():\n",
    "    #class attribute -> attribute that will have common value for all objects\n",
    "    #in employees case no_of_working_hours can be class atrribute\n",
    "    #so we will define it here\n",
    "    no_of_working_hours = 40\n"
   ]
  },
  {
   "cell_type": "code",
   "execution_count": 2,
   "id": "109bc0c4",
   "metadata": {},
   "outputs": [],
   "source": [
    "#creating objects"
   ]
  },
  {
   "cell_type": "code",
   "execution_count": 3,
   "id": "aca95fa5",
   "metadata": {},
   "outputs": [],
   "source": [
    "e1 = Employee()\n",
    "e2 = Employee()"
   ]
  },
  {
   "cell_type": "code",
   "execution_count": 4,
   "id": "62998d4c",
   "metadata": {},
   "outputs": [
    {
     "data": {
      "text/plain": [
       "40"
      ]
     },
     "execution_count": 4,
     "metadata": {},
     "output_type": "execute_result"
    }
   ],
   "source": [
    "e1.no_of_working_hours"
   ]
  },
  {
   "cell_type": "code",
   "execution_count": 5,
   "id": "20866cc9",
   "metadata": {},
   "outputs": [
    {
     "data": {
      "text/plain": [
       "40"
      ]
     },
     "execution_count": 5,
     "metadata": {},
     "output_type": "execute_result"
    }
   ],
   "source": [
    "e2.no_of_working_hours"
   ]
  },
  {
   "cell_type": "code",
   "execution_count": 6,
   "id": "89bed8a3",
   "metadata": {},
   "outputs": [],
   "source": [
    "#if we want to change 40 to 45 from outside class \n",
    "Employee.no_of_working_hours = 45"
   ]
  },
  {
   "cell_type": "code",
   "execution_count": 7,
   "id": "39066311",
   "metadata": {},
   "outputs": [
    {
     "data": {
      "text/plain": [
       "45"
      ]
     },
     "execution_count": 7,
     "metadata": {},
     "output_type": "execute_result"
    }
   ],
   "source": [
    "e1.no_of_working_hours"
   ]
  },
  {
   "cell_type": "code",
   "execution_count": 8,
   "id": "6101a24a",
   "metadata": {},
   "outputs": [
    {
     "data": {
      "text/plain": [
       "45"
      ]
     },
     "execution_count": 8,
     "metadata": {},
     "output_type": "execute_result"
    }
   ],
   "source": [
    "e2.no_of_working_hours"
   ]
  },
  {
   "cell_type": "code",
   "execution_count": 9,
   "id": "b44784cb",
   "metadata": {},
   "outputs": [],
   "source": [
    "#Instance Attribute"
   ]
  },
  {
   "cell_type": "code",
   "execution_count": 10,
   "id": "e7c8d41c",
   "metadata": {},
   "outputs": [],
   "source": [
    "#attribute that has specific value for every attribute"
   ]
  },
  {
   "cell_type": "code",
   "execution_count": 11,
   "id": "a2675ed5",
   "metadata": {},
   "outputs": [],
   "source": [
    "#for example in employess case name can be instance attribute"
   ]
  },
  {
   "cell_type": "code",
   "execution_count": 12,
   "id": "4e400efc",
   "metadata": {},
   "outputs": [],
   "source": [
    "#creating instance attribute\n"
   ]
  },
  {
   "cell_type": "code",
   "execution_count": 13,
   "id": "1ff00e75",
   "metadata": {},
   "outputs": [],
   "source": [
    "e1.name = 'usman'"
   ]
  },
  {
   "cell_type": "code",
   "execution_count": 14,
   "id": "51aaadd7",
   "metadata": {},
   "outputs": [
    {
     "data": {
      "text/plain": [
       "'usman'"
      ]
     },
     "execution_count": 14,
     "metadata": {},
     "output_type": "execute_result"
    }
   ],
   "source": [
    "e1.name\n"
   ]
  },
  {
   "cell_type": "code",
   "execution_count": 15,
   "id": "547f7377",
   "metadata": {},
   "outputs": [],
   "source": [
    "e2.name = 'Ali'"
   ]
  },
  {
   "cell_type": "code",
   "execution_count": 16,
   "id": "f7de0b30",
   "metadata": {},
   "outputs": [
    {
     "data": {
      "text/plain": [
       "'Ali'"
      ]
     },
     "execution_count": 16,
     "metadata": {},
     "output_type": "execute_result"
    }
   ],
   "source": [
    "e2.name"
   ]
  },
  {
   "cell_type": "code",
   "execution_count": 18,
   "id": "d486b51c",
   "metadata": {},
   "outputs": [],
   "source": [
    "#now what if we make another calss Employee2() and make class attribute name and then make instance attribute name and we will see\n",
    "#which one every object will return"
   ]
  },
  {
   "cell_type": "code",
   "execution_count": 19,
   "id": "39e658de",
   "metadata": {},
   "outputs": [],
   "source": [
    "class Employee2():\n",
    "    no_of_working_hours = 40\n",
    "    name = 'hello'\n",
    "    "
   ]
  },
  {
   "cell_type": "code",
   "execution_count": 27,
   "id": "d6f1e013",
   "metadata": {},
   "outputs": [],
   "source": [
    "e3 = Employee2()"
   ]
  },
  {
   "cell_type": "code",
   "execution_count": 28,
   "id": "c8dbd13c",
   "metadata": {},
   "outputs": [],
   "source": [
    "e4 = Employee2()"
   ]
  },
  {
   "cell_type": "code",
   "execution_count": 29,
   "id": "00d1cc02",
   "metadata": {},
   "outputs": [],
   "source": [
    "e3.name = 'USman'"
   ]
  },
  {
   "cell_type": "code",
   "execution_count": 30,
   "id": "91eb9b2e",
   "metadata": {},
   "outputs": [
    {
     "data": {
      "text/plain": [
       "'USman'"
      ]
     },
     "execution_count": 30,
     "metadata": {},
     "output_type": "execute_result"
    }
   ],
   "source": [
    "e3.name"
   ]
  },
  {
   "cell_type": "code",
   "execution_count": 31,
   "id": "d3d6e436",
   "metadata": {},
   "outputs": [
    {
     "data": {
      "text/plain": [
       "'hello'"
      ]
     },
     "execution_count": 31,
     "metadata": {},
     "output_type": "execute_result"
    }
   ],
   "source": [
    "e4.name"
   ]
  },
  {
   "cell_type": "code",
   "execution_count": 32,
   "id": "9d760166",
   "metadata": {},
   "outputs": [],
   "source": [
    "#so if we have instance attribute it will give us its value even without considering value of class attribute"
   ]
  },
  {
   "cell_type": "code",
   "execution_count": null,
   "id": "f3b8a5f1",
   "metadata": {},
   "outputs": [],
   "source": []
  }
 ],
 "metadata": {
  "kernelspec": {
   "display_name": "Python 3 (ipykernel)",
   "language": "python",
   "name": "python3"
  },
  "language_info": {
   "codemirror_mode": {
    "name": "ipython",
    "version": 3
   },
   "file_extension": ".py",
   "mimetype": "text/x-python",
   "name": "python",
   "nbconvert_exporter": "python",
   "pygments_lexer": "ipython3",
   "version": "3.9.13"
  }
 },
 "nbformat": 4,
 "nbformat_minor": 5
}
